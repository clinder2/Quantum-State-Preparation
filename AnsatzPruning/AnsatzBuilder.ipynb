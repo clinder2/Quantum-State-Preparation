{
 "cells": [
  {
   "cell_type": "code",
   "id": "initial_id",
   "metadata": {
    "collapsed": true,
    "ExecuteTime": {
     "end_time": "2025-02-10T21:32:50.370945Z",
     "start_time": "2025-02-10T21:32:38.424250Z"
    }
   },
   "source": [
    "!pip install scipy\n",
    "!pip install qiskit_aer\n",
    "!pip install qiskit"
   ],
   "outputs": [
    {
     "name": "stdout",
     "output_type": "stream",
     "text": [
      "Requirement already satisfied: scipy in c:\\users\\fossz\\miniconda3\\envs\\cs3630\\lib\\site-packages (1.15.1)\n",
      "Requirement already satisfied: numpy<2.5,>=1.23.5 in c:\\users\\fossz\\miniconda3\\envs\\cs3630\\lib\\site-packages (from scipy) (1.26.4)\n",
      "Requirement already satisfied: qiskit_aer in c:\\users\\fossz\\miniconda3\\envs\\cs3630\\lib\\site-packages (0.16.1)\n",
      "Requirement already satisfied: qiskit>=1.1.0 in c:\\users\\fossz\\miniconda3\\envs\\cs3630\\lib\\site-packages (from qiskit_aer) (1.3.2)\n",
      "Requirement already satisfied: numpy>=1.16.3 in c:\\users\\fossz\\miniconda3\\envs\\cs3630\\lib\\site-packages (from qiskit_aer) (1.26.4)\n",
      "Requirement already satisfied: scipy>=1.0 in c:\\users\\fossz\\miniconda3\\envs\\cs3630\\lib\\site-packages (from qiskit_aer) (1.15.1)\n",
      "Requirement already satisfied: psutil>=5 in c:\\users\\fossz\\miniconda3\\envs\\cs3630\\lib\\site-packages (from qiskit_aer) (5.9.0)\n",
      "Requirement already satisfied: rustworkx>=0.15.0 in c:\\users\\fossz\\miniconda3\\envs\\cs3630\\lib\\site-packages (from qiskit>=1.1.0->qiskit_aer) (0.16.0)\n",
      "Requirement already satisfied: sympy>=1.3 in c:\\users\\fossz\\miniconda3\\envs\\cs3630\\lib\\site-packages (from qiskit>=1.1.0->qiskit_aer) (1.13.3)\n",
      "Requirement already satisfied: dill>=0.3 in c:\\users\\fossz\\miniconda3\\envs\\cs3630\\lib\\site-packages (from qiskit>=1.1.0->qiskit_aer) (0.3.9)\n",
      "Requirement already satisfied: python-dateutil>=2.8.0 in c:\\users\\fossz\\miniconda3\\envs\\cs3630\\lib\\site-packages (from qiskit>=1.1.0->qiskit_aer) (2.9.0.post0)\n",
      "Requirement already satisfied: stevedore>=3.0.0 in c:\\users\\fossz\\miniconda3\\envs\\cs3630\\lib\\site-packages (from qiskit>=1.1.0->qiskit_aer) (5.4.0)\n",
      "Requirement already satisfied: typing-extensions in c:\\users\\fossz\\miniconda3\\envs\\cs3630\\lib\\site-packages (from qiskit>=1.1.0->qiskit_aer) (4.11.0)\n",
      "Requirement already satisfied: symengine<0.14,>=0.11 in c:\\users\\fossz\\miniconda3\\envs\\cs3630\\lib\\site-packages (from qiskit>=1.1.0->qiskit_aer) (0.13.0)\n",
      "Requirement already satisfied: six>=1.5 in c:\\users\\fossz\\miniconda3\\envs\\cs3630\\lib\\site-packages (from python-dateutil>=2.8.0->qiskit>=1.1.0->qiskit_aer) (1.16.0)\n",
      "Requirement already satisfied: pbr>=2.0.0 in c:\\users\\fossz\\miniconda3\\envs\\cs3630\\lib\\site-packages (from stevedore>=3.0.0->qiskit>=1.1.0->qiskit_aer) (6.1.1)\n",
      "Requirement already satisfied: mpmath<1.4,>=1.1.0 in c:\\users\\fossz\\miniconda3\\envs\\cs3630\\lib\\site-packages (from sympy>=1.3->qiskit>=1.1.0->qiskit_aer) (1.3.0)\n",
      "Requirement already satisfied: setuptools in c:\\users\\fossz\\miniconda3\\envs\\cs3630\\lib\\site-packages (from pbr>=2.0.0->stevedore>=3.0.0->qiskit>=1.1.0->qiskit_aer) (72.1.0)\n",
      "Requirement already satisfied: qiskit in c:\\users\\fossz\\miniconda3\\envs\\cs3630\\lib\\site-packages (1.3.2)\n",
      "Requirement already satisfied: rustworkx>=0.15.0 in c:\\users\\fossz\\miniconda3\\envs\\cs3630\\lib\\site-packages (from qiskit) (0.16.0)\n",
      "Requirement already satisfied: numpy<3,>=1.17 in c:\\users\\fossz\\miniconda3\\envs\\cs3630\\lib\\site-packages (from qiskit) (1.26.4)\n",
      "Requirement already satisfied: scipy>=1.5 in c:\\users\\fossz\\miniconda3\\envs\\cs3630\\lib\\site-packages (from qiskit) (1.15.1)\n",
      "Requirement already satisfied: sympy>=1.3 in c:\\users\\fossz\\miniconda3\\envs\\cs3630\\lib\\site-packages (from qiskit) (1.13.3)\n",
      "Requirement already satisfied: dill>=0.3 in c:\\users\\fossz\\miniconda3\\envs\\cs3630\\lib\\site-packages (from qiskit) (0.3.9)\n",
      "Requirement already satisfied: python-dateutil>=2.8.0 in c:\\users\\fossz\\miniconda3\\envs\\cs3630\\lib\\site-packages (from qiskit) (2.9.0.post0)\n",
      "Requirement already satisfied: stevedore>=3.0.0 in c:\\users\\fossz\\miniconda3\\envs\\cs3630\\lib\\site-packages (from qiskit) (5.4.0)\n",
      "Requirement already satisfied: typing-extensions in c:\\users\\fossz\\miniconda3\\envs\\cs3630\\lib\\site-packages (from qiskit) (4.11.0)\n",
      "Requirement already satisfied: symengine<0.14,>=0.11 in c:\\users\\fossz\\miniconda3\\envs\\cs3630\\lib\\site-packages (from qiskit) (0.13.0)\n",
      "Requirement already satisfied: six>=1.5 in c:\\users\\fossz\\miniconda3\\envs\\cs3630\\lib\\site-packages (from python-dateutil>=2.8.0->qiskit) (1.16.0)\n",
      "Requirement already satisfied: pbr>=2.0.0 in c:\\users\\fossz\\miniconda3\\envs\\cs3630\\lib\\site-packages (from stevedore>=3.0.0->qiskit) (6.1.1)\n",
      "Requirement already satisfied: mpmath<1.4,>=1.1.0 in c:\\users\\fossz\\miniconda3\\envs\\cs3630\\lib\\site-packages (from sympy>=1.3->qiskit) (1.3.0)\n",
      "Requirement already satisfied: setuptools in c:\\users\\fossz\\miniconda3\\envs\\cs3630\\lib\\site-packages (from pbr>=2.0.0->stevedore>=3.0.0->qiskit) (72.1.0)\n"
     ]
    }
   ],
   "execution_count": 3
  },
  {
   "metadata": {
    "ExecuteTime": {
     "end_time": "2025-02-10T22:24:55.109684Z",
     "start_time": "2025-02-10T22:24:54.992391Z"
    }
   },
   "cell_type": "code",
   "source": [
    "import numpy as np\n",
    "import math\n",
    "import pandas as pd\n",
    "from random import randint\n",
    "import matplotlib\n",
    "matplotlib.use('Agg')\n",
    "import matplotlib.pyplot as plt\n",
    "from qiskit.circuit import ParameterVector\n",
    "from scipy.optimize import minimize\n",
    "from qiskit_aer.aerprovider import AerSimulator\n",
    "from qiskit import QuantumCircuit, transpile\n",
    "from qiskit.circuit.library import RealAmplitudes\n",
    "from qiskit.circuit.library import *\n",
    "from qiskit.circuit import ClassicalRegister, QuantumRegister, Parameter, ParameterVector\n",
    "from qiskit.primitives import StatevectorEstimator as Estimator\n",
    "from qiskit.primitives import StatevectorSampler as Sampler\n",
    "from qiskit.transpiler.preset_passmanagers import generate_preset_pass_manager\n",
    "from qiskit.quantum_info import *\n",
    "from Utilities import *\n",
    "import heapq"
   ],
   "id": "2b551c159c4ef50e",
   "outputs": [],
   "execution_count": 35
  },
  {
   "metadata": {
    "ExecuteTime": {
     "end_time": "2025-02-10T22:25:00.067587Z",
     "start_time": "2025-02-10T22:24:59.943364Z"
    }
   },
   "cell_type": "code",
   "source": [
    "\"\"\"\n",
    "Function to naively add fully parametrized, maximally entangled layer layers times\n",
    "Calculates gradients for each layer, removes smallest magnitude RY gates with given pruning rate\n",
    "\"\"\"\n",
    "def NaiveBuilder(params:list, ansatz:QuantumCircuit, layers:int,\n",
    "                 circuit:QuantumCircuit, hamiltonian:SparsePauliOp, estimator:Estimator, pruning_rates):\n",
    "    n = circuit.num_qubits\n",
    "    results = []\n",
    "    \n",
    "    for rate in pruning_rates:\n",
    "        temp_ansatz = ansatz.copy()\n",
    "        temp_params = params.copy()\n",
    "        new_params = ParameterVector(f'new_{rate}', layers * n)\n",
    "        \n",
    "        for l in range(layers):\n",
    "            naive_layer = QuantumCircuit(n)\n",
    "            for i in range (n):\n",
    "                naive_layer.ry(new_params[l * n + i], i)\n",
    "                temp_params.append(1)\n",
    "            for i in range(1, n):\n",
    "                naive_layer.cx(0, i)\n",
    "                \n",
    "            temp_ansatz = temp_ansatz.compose(naive_layer)\n",
    "            accumulator = [(randint(0, 10), i) for i in range(len(temp_params) - n, len(temp_params))]\n",
    "            heapq.heapify(accumulator)\n",
    "            bound = math.floor(rate * n)\n",
    "            remove = [heapq.heappop(accumulator)[1] % n for _ in range(bound)]\n",
    "            \n",
    "            for i, idx in enumerate(sorted(remove)):\n",
    "                del naive_layer.data[idx - i]\n",
    "                del temp_params[-1]\n",
    "                \n",
    "            temp_ansatz = temp_ansatz.compose(naive_layer)\n",
    "            \n",
    "        final_circuit = circuit.compose(temp_ansatz)\n",
    "        results.append((rate, final_circuit.depth(), len(temp_params)))\n",
    "        \n",
    "    return results"
   ],
   "id": "9f18434469982292",
   "outputs": [],
   "execution_count": 36
  },
  {
   "metadata": {
    "ExecuteTime": {
     "end_time": "2025-02-10T22:27:55.713493Z",
     "start_time": "2025-02-10T22:27:54.893130Z"
    }
   },
   "cell_type": "code",
   "source": [
    "def visualize_results(results):\n",
    "    rates, depths, params = zip(*results)\n",
    "    plt.figure(figsize=(10, 5))\n",
    "    plt.subplot(1,2,1)\n",
    "    plt.plot(rates, depths, marker='o', label='Circuit Depth')\n",
    "    plt.xlabel('Pruning Rate')\n",
    "    plt.ylabel('Circuit Depth')\n",
    "    plt.legend()\n",
    "    \n",
    "    plt.subplot(1,2,2)\n",
    "    plt.plot(rates, params, marker='s', label='Parameter Count', color='r')\n",
    "    plt.xlabel('Pruning Rate')\n",
    "    plt.ylabel('Number of Parameters')\n",
    "    plt.legend()\n",
    "    \n",
    "    plt.savefig(\"pruning_results.png\")\n",
    "    print(\"Visualization saved as 'pruning_results.png'\")"
   ],
   "id": "913873212a54abba",
   "outputs": [],
   "execution_count": 39
  },
  {
   "metadata": {
    "ExecuteTime": {
     "end_time": "2025-02-10T22:27:58.300492Z",
     "start_time": "2025-02-10T22:27:56.678032Z"
    }
   },
   "cell_type": "code",
   "source": [
    "if __name__ == \"__main__\":\n",
    "    H = SparsePauliOp.from_list([(\"ZIZZ\", 1),(\"ZZII\", 3),(\"IZZI\", 1),(\"IIZZ\", 1)]) # Toy hamiltonian\n",
    "    circuit = QuantumCircuit(4)\n",
    "    ansatz = QuantumCircuit(4)\n",
    "    pruning_rates = [0.1, 0.3, 0.5, 0.7, 0.9]\n",
    "    results = NaiveBuilder([1,1,1,1], ansatz, 3, circuit, H, Estimator(), pruning_rates)\n",
    "    visualize_results(results)"
   ],
   "id": "b7412d83095f07e5",
   "outputs": [
    {
     "name": "stdout",
     "output_type": "stream",
     "text": [
      "Visualization saved as 'pruning_results.png'\n"
     ]
    }
   ],
   "execution_count": 40
  }
 ],
 "metadata": {
  "kernelspec": {
   "display_name": "Python 3",
   "language": "python",
   "name": "python3"
  },
  "language_info": {
   "codemirror_mode": {
    "name": "ipython",
    "version": 2
   },
   "file_extension": ".py",
   "mimetype": "text/x-python",
   "name": "python",
   "nbconvert_exporter": "python",
   "pygments_lexer": "ipython2",
   "version": "2.7.6"
  }
 },
 "nbformat": 4,
 "nbformat_minor": 5
}
