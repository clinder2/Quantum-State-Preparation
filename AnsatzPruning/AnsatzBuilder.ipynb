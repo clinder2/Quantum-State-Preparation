{
 "cells": [
  {
   "cell_type": "code",
   "id": "initial_id",
   "metadata": {
    "collapsed": true,
    "ExecuteTime": {
     "end_time": "2025-04-08T22:50:32.616140Z",
     "start_time": "2025-04-08T22:50:09.662918Z"
    }
   },
   "source": [
    "!pip install scipy\n",
    "!pip install qiskit_aer\n",
    "!pip install qiskit"
   ],
   "outputs": [
    {
     "name": "stdout",
     "output_type": "stream",
     "text": [
      "Requirement already satisfied: scipy in c:\\users\\fossz\\miniconda3\\envs\\cs3630\\lib\\site-packages (1.15.1)\n",
      "Requirement already satisfied: numpy<2.5,>=1.23.5 in c:\\users\\fossz\\miniconda3\\envs\\cs3630\\lib\\site-packages (from scipy) (2.2.4)\n",
      "Requirement already satisfied: qiskit_aer in c:\\users\\fossz\\miniconda3\\envs\\cs3630\\lib\\site-packages (0.16.1)\n",
      "Requirement already satisfied: qiskit>=1.1.0 in c:\\users\\fossz\\miniconda3\\envs\\cs3630\\lib\\site-packages (from qiskit_aer) (1.3.2)\n",
      "Requirement already satisfied: numpy>=1.16.3 in c:\\users\\fossz\\miniconda3\\envs\\cs3630\\lib\\site-packages (from qiskit_aer) (2.2.4)\n",
      "Requirement already satisfied: scipy>=1.0 in c:\\users\\fossz\\miniconda3\\envs\\cs3630\\lib\\site-packages (from qiskit_aer) (1.15.1)\n",
      "Requirement already satisfied: psutil>=5 in c:\\users\\fossz\\miniconda3\\envs\\cs3630\\lib\\site-packages (from qiskit_aer) (5.9.0)\n",
      "Requirement already satisfied: rustworkx>=0.15.0 in c:\\users\\fossz\\miniconda3\\envs\\cs3630\\lib\\site-packages (from qiskit>=1.1.0->qiskit_aer) (0.16.0)\n",
      "Requirement already satisfied: sympy>=1.3 in c:\\users\\fossz\\miniconda3\\envs\\cs3630\\lib\\site-packages (from qiskit>=1.1.0->qiskit_aer) (1.13.3)\n",
      "Requirement already satisfied: dill>=0.3 in c:\\users\\fossz\\miniconda3\\envs\\cs3630\\lib\\site-packages (from qiskit>=1.1.0->qiskit_aer) (0.3.9)\n",
      "Requirement already satisfied: python-dateutil>=2.8.0 in c:\\users\\fossz\\miniconda3\\envs\\cs3630\\lib\\site-packages (from qiskit>=1.1.0->qiskit_aer) (2.9.0.post0)\n",
      "Requirement already satisfied: stevedore>=3.0.0 in c:\\users\\fossz\\miniconda3\\envs\\cs3630\\lib\\site-packages (from qiskit>=1.1.0->qiskit_aer) (5.4.0)\n",
      "Requirement already satisfied: typing-extensions in c:\\users\\fossz\\miniconda3\\envs\\cs3630\\lib\\site-packages (from qiskit>=1.1.0->qiskit_aer) (4.11.0)\n",
      "Requirement already satisfied: symengine<0.14,>=0.11 in c:\\users\\fossz\\miniconda3\\envs\\cs3630\\lib\\site-packages (from qiskit>=1.1.0->qiskit_aer) (0.13.0)\n",
      "Requirement already satisfied: six>=1.5 in c:\\users\\fossz\\miniconda3\\envs\\cs3630\\lib\\site-packages (from python-dateutil>=2.8.0->qiskit>=1.1.0->qiskit_aer) (1.17.0)\n",
      "Requirement already satisfied: pbr>=2.0.0 in c:\\users\\fossz\\miniconda3\\envs\\cs3630\\lib\\site-packages (from stevedore>=3.0.0->qiskit>=1.1.0->qiskit_aer) (6.1.1)\n",
      "Requirement already satisfied: mpmath<1.4,>=1.1.0 in c:\\users\\fossz\\miniconda3\\envs\\cs3630\\lib\\site-packages (from sympy>=1.3->qiskit>=1.1.0->qiskit_aer) (1.3.0)\n",
      "Requirement already satisfied: setuptools in c:\\users\\fossz\\miniconda3\\envs\\cs3630\\lib\\site-packages (from pbr>=2.0.0->stevedore>=3.0.0->qiskit>=1.1.0->qiskit_aer) (72.1.0)\n",
      "Requirement already satisfied: qiskit in c:\\users\\fossz\\miniconda3\\envs\\cs3630\\lib\\site-packages (1.3.2)\n",
      "Requirement already satisfied: rustworkx>=0.15.0 in c:\\users\\fossz\\miniconda3\\envs\\cs3630\\lib\\site-packages (from qiskit) (0.16.0)\n",
      "Requirement already satisfied: numpy<3,>=1.17 in c:\\users\\fossz\\miniconda3\\envs\\cs3630\\lib\\site-packages (from qiskit) (2.2.4)\n",
      "Requirement already satisfied: scipy>=1.5 in c:\\users\\fossz\\miniconda3\\envs\\cs3630\\lib\\site-packages (from qiskit) (1.15.1)\n",
      "Requirement already satisfied: sympy>=1.3 in c:\\users\\fossz\\miniconda3\\envs\\cs3630\\lib\\site-packages (from qiskit) (1.13.3)\n",
      "Requirement already satisfied: dill>=0.3 in c:\\users\\fossz\\miniconda3\\envs\\cs3630\\lib\\site-packages (from qiskit) (0.3.9)\n",
      "Requirement already satisfied: python-dateutil>=2.8.0 in c:\\users\\fossz\\miniconda3\\envs\\cs3630\\lib\\site-packages (from qiskit) (2.9.0.post0)\n",
      "Requirement already satisfied: stevedore>=3.0.0 in c:\\users\\fossz\\miniconda3\\envs\\cs3630\\lib\\site-packages (from qiskit) (5.4.0)\n",
      "Requirement already satisfied: typing-extensions in c:\\users\\fossz\\miniconda3\\envs\\cs3630\\lib\\site-packages (from qiskit) (4.11.0)\n",
      "Requirement already satisfied: symengine<0.14,>=0.11 in c:\\users\\fossz\\miniconda3\\envs\\cs3630\\lib\\site-packages (from qiskit) (0.13.0)\n",
      "Requirement already satisfied: six>=1.5 in c:\\users\\fossz\\miniconda3\\envs\\cs3630\\lib\\site-packages (from python-dateutil>=2.8.0->qiskit) (1.17.0)\n",
      "Requirement already satisfied: pbr>=2.0.0 in c:\\users\\fossz\\miniconda3\\envs\\cs3630\\lib\\site-packages (from stevedore>=3.0.0->qiskit) (6.1.1)\n",
      "Requirement already satisfied: mpmath<1.4,>=1.1.0 in c:\\users\\fossz\\miniconda3\\envs\\cs3630\\lib\\site-packages (from sympy>=1.3->qiskit) (1.3.0)\n",
      "Requirement already satisfied: setuptools in c:\\users\\fossz\\miniconda3\\envs\\cs3630\\lib\\site-packages (from pbr>=2.0.0->stevedore>=3.0.0->qiskit) (72.1.0)\n"
     ]
    }
   ],
   "execution_count": 1
  },
  {
   "metadata": {
    "ExecuteTime": {
     "end_time": "2025-04-08T22:51:27.098492Z",
     "start_time": "2025-04-08T22:51:03.097900Z"
    }
   },
   "cell_type": "code",
   "source": [
    "import numpy as np\n",
    "import math\n",
    "import pandas as pd\n",
    "from random import randint\n",
    "import matplotlib\n",
    "matplotlib.use('Agg')\n",
    "import matplotlib.pyplot as plt\n",
    "from qiskit.circuit import ParameterVector\n",
    "from scipy.optimize import minimize\n",
    "from scipy.stats import entropy\n",
    "from scipy.linalg import logm\n",
    "from qiskit_aer.aerprovider import AerSimulator\n",
    "from qiskit import QuantumCircuit, transpile\n",
    "from qiskit.circuit.library import RealAmplitudes\n",
    "from qiskit.circuit.library import *\n",
    "from qiskit.circuit import ClassicalRegister, QuantumRegister, Parameter, ParameterVector\n",
    "from qiskit.primitives import StatevectorEstimator as Estimator\n",
    "from qiskit.primitives import StatevectorSampler as Sampler\n",
    "from qiskit.transpiler.preset_passmanagers import generate_preset_pass_manager\n",
    "from qiskit.quantum_info import *\n",
    "from Utilities import *\n",
    "import heapq"
   ],
   "id": "2b551c159c4ef50e",
   "outputs": [],
   "execution_count": 2
  },
  {
   "metadata": {},
   "cell_type": "code",
   "source": [
    "def compute_entropy(statevector, num_qubits):\n",
    "    \"\"\"Computes von Neumann entropy of the first qubit.\"\"\"\n",
    "    rho = partial_trace(statevector, list(range(1, num_qubits))) # Trace out other qubits\n",
    "    rho_matrix = rho.data # Convert to matrix form\n",
    "    eigvals = np.linalg.eigvalsh(rho_matrix) # Compute eigenvalues\n",
    "    entropy_val = -np.sum(eigvals * np.log2(eigvals + 1e-10)) # Avoid log(0)\n",
    "    return entropy_val"
   ],
   "id": "30a0330fbbc24dd7",
   "outputs": [],
   "execution_count": 4
  },
  {
   "metadata": {
    "ExecuteTime": {
     "end_time": "2025-04-08T23:03:27.124306Z",
     "start_time": "2025-04-08T23:03:26.981262Z"
    }
   },
   "cell_type": "code",
   "source": [
    "\"\"\"\n",
    "Function to naively add fully parametrized, maximally entangled layer layers times\n",
    "Calculates gradients for each layer, removes smallest magnitude RY gates with given pruning rate\n",
    "\"\"\"\n",
    "def NaiveBuilder(params:list, ansatz:QuantumCircuit, layers:int,\n",
    "                 circuit:QuantumCircuit, hamiltonian:SparsePauliOp, estimator:Estimator, pruning_rates):\n",
    "    n = circuit.num_qubits\n",
    "    results = []\n",
    "    \n",
    "    for rate in pruning_rates:\n",
    "        temp_ansatz = ansatz.copy()\n",
    "        temp_params = params.copy()\n",
    "        new_params = ParameterVector(f'new_{rate}', layers * n)\n",
    "        \n",
    "        for l in range(layers):\n",
    "            naive_layer = QuantumCircuit(n)\n",
    "            \n",
    "            # Add RY gates with new parameters\n",
    "            for i in range(n):\n",
    "                naive_layer.ry(new_params[l * n + i], i)\n",
    "                temp_params.append(1)\n",
    "                \n",
    "            # Add CX gates for entanglement\n",
    "            for i in range(1, n):\n",
    "                naive_layer.cx(0, i)\n",
    "                \n",
    "            temp_ansatz = temp_ansatz.compose(naive_layer)\n",
    "            \n",
    "            # Simulate gradients (randomized for now)\n",
    "            accumulator = [(np.random.rand(), i) for i in range(len(temp_params) - n, len(temp_params))]\n",
    "            heapq.heapify(accumulator)\n",
    "            \n",
    "            # Prune lowest-magnitude parameters\n",
    "            bound = min(math.floor(rate * n), max(1, n // 2)) # Keep at least n/2 gates\n",
    "            remove = [heapq.heappop(accumulator)[1] % n for _ in range(bound)]\n",
    "            \n",
    "            for i, idx in enumerate(sorted(remove)):\n",
    "                del naive_layer.data[idx - i]\n",
    "                del temp_params[-1]\n",
    "                \n",
    "            temp_ansatz = temp_ansatz.compose(naive_layer)\n",
    "            \n",
    "        final_circuit = circuit.compose(temp_ansatz)\n",
    "        results.append((rate, final_circuit.depth(), len(temp_params)))\n",
    "        \n",
    "    return results"
   ],
   "id": "9f18434469982292",
   "outputs": [],
   "execution_count": 12
  },
  {
   "metadata": {
    "ExecuteTime": {
     "end_time": "2025-04-08T23:03:42.642864Z",
     "start_time": "2025-04-08T23:03:42.604328Z"
    }
   },
   "cell_type": "code",
   "source": [
    "def visualize_pruning_results(results):\n",
    "    rates, depths, params = zip(*results)\n",
    "    plt.figure(figsize=(10, 5))\n",
    "    \n",
    "    # Plot circuit depth\n",
    "    plt.subplot(1,2,1)\n",
    "    plt.plot(rates, depths, marker='o', label='Circuit Depth', color='b')\n",
    "    plt.xlabel('Pruning Rate')\n",
    "    plt.ylabel('Circuit Depth')\n",
    "    plt.legend()\n",
    "    \n",
    "    # Plot parameter count\n",
    "    plt.subplot(1,2,2)\n",
    "    plt.plot(rates, params, marker='s', label='Parameter Count', color='r')\n",
    "    plt.xlabel('Pruning Rate')\n",
    "    plt.ylabel('Number of Parameters')\n",
    "    plt.legend()\n",
    "    \n",
    "    plt.savefig(\"pruning_results.png\")\n",
    "    print(\"Visualization saved as 'pruning_results.png'\")"
   ],
   "id": "913873212a54abba",
   "outputs": [],
   "execution_count": 13
  },
  {
   "metadata": {
    "ExecuteTime": {
     "end_time": "2025-04-08T23:03:48.520949Z",
     "start_time": "2025-04-08T23:03:48.480063Z"
    }
   },
   "cell_type": "code",
   "source": [
    "def measure_expressivity(circuit):\n",
    "    \"\"\"Compute expressivity metrics: depth and entanglement entropy.\"\"\"\n",
    "    if isinstance(circuit, RealAmplitudes):\n",
    "        circuit = circuit.decompose()\n",
    "        \n",
    "    depth = circuit.depth()\n",
    "    \n",
    "    # Bind random values to all parameters\n",
    "    param_dict = {param: np.random.uniform(0, 2*np.pi) for param in circuit.parameters}\n",
    "    #print(type(circuit))\n",
    "    #print(circuit.parameters)\n",
    "    bound_circuit = circuit.assign_parameters(param_dict)\n",
    "    \n",
    "    # Compute entanglement entropy for a simple state preparation\n",
    "    state = Statevector.from_instruction(bound_circuit)\n",
    "    entropy_val = compute_entropy(state, circuit.num_qubits)\n",
    "    \n",
    "    return depth, entropy_val"
   ],
   "id": "c8caaa099680e6f2",
   "outputs": [],
   "execution_count": 14
  },
  {
   "metadata": {
    "ExecuteTime": {
     "end_time": "2025-04-08T23:04:00.754024Z",
     "start_time": "2025-04-08T23:04:00.720479Z"
    }
   },
   "cell_type": "code",
   "source": [
    "def experiment_expressivity(qubits=4, layers=3):\n",
    "    \"\"\"Compare different ansatz expressivity.\"\"\"\n",
    "    ansatz_types = {\n",
    "        \"RealAmplitudes\": RealAmplitudes(qubits, reps=layers, entanglement='full'),\n",
    "        \"EfficientSU2\": EfficientSU2(qubits, reps=layers, entanglement='full'),\n",
    "        \"Custom\": QuantumCircuit(qubits)\n",
    "    }\n",
    "    \n",
    "    # Custom Ansatz: RY Layers with CZ gates\n",
    "    for _ in range(layers):\n",
    "        for i in range(qubits):\n",
    "            ansatz_types[\"Custom\"].ry(np.random.rand(), i)\n",
    "        for i in range(qubits - 1):\n",
    "            ansatz_types[\"Custom\"].cz(i, i + 1)\n",
    "        \n",
    "    results = []\n",
    "    for name, circuit in ansatz_types.items():\n",
    "        depth, ent = measure_expressivity(circuit)\n",
    "        results.append((name, depth, ent))\n",
    "        \n",
    "    return results"
   ],
   "id": "efbe88b3187a8e15",
   "outputs": [],
   "execution_count": 16
  },
  {
   "metadata": {
    "ExecuteTime": {
     "end_time": "2025-04-08T23:04:03.998076Z",
     "start_time": "2025-04-08T23:04:03.950115Z"
    }
   },
   "cell_type": "code",
   "source": [
    "def compute_expressivity(ansatz: QuantumCircuit, param_vector: ParameterVector, samples=100) -> float:\n",
    "    \"\"\"Quantifies expressivity via fidelity with Haar-random states\"\"\"\n",
    "    expressivities = []\n",
    "    for _ in range(samples):\n",
    "        # Generate a Haar-random state\n",
    "        target_state = random_statevector(2**ansatz.num_qubits).data\n",
    "        # Bind random parameters to the ansatz\n",
    "        bound_params = {param: np.random.uniform(0, 2 * np.pi) for param in param_vector}\n",
    "        bound_circuit = ansatz.assign_parameters(bound_params)\n",
    "        # Simulate the ansatz output state\n",
    "        ansatz_state = Statevector(bound_circuit).data\n",
    "        # Compute fidelity\n",
    "        fidelity = np.abs(np.vdot(target_state, ansatz_state))**2\n",
    "        expressivities.append(fidelity)\n",
    "    \n",
    "    return np.mean(expressivities) # Higher mean = more expressive"
   ],
   "id": "c478babb0dce0de3",
   "outputs": [],
   "execution_count": 17
  },
  {
   "metadata": {
    "ExecuteTime": {
     "end_time": "2025-04-08T23:04:07.526541Z",
     "start_time": "2025-04-08T23:04:07.476415Z"
    }
   },
   "cell_type": "code",
   "source": [
    "def visualize_expressivity(results):\n",
    "    \"\"\"Plot expressivity metrics.\"\"\"\n",
    "    names, depths, entropies = zip(*results)\n",
    "    \n",
    "    fig, ax1 = plt.subplots(figsize=(10, 5))\n",
    "    \n",
    "    ax1.set_xlabel(\"Ansatz Type\")\n",
    "    ax1.set_ylabel(\"Circuit Depth\", color=\"b\")\n",
    "    ax1.bar(names, depths, color=\"b\", alpha=0.6, label=\"Depth\")\n",
    "    \n",
    "    ax2 = ax1.twinx()\n",
    "    ax2.set_ylabel(\"Entanglement Entropy\", color=\"r\")\n",
    "    ax2.plot(names, entropies, marker=\"o\", color=\"r\", label=\"Entropy\")\n",
    "    \n",
    "    plt.title(\"Ansatz Expressivity Comparison\")\n",
    "    plt.savefig(\"expressivity_results.png\")\n",
    "    print(\"Visualization saved as 'expressivity_results.png'\")"
   ],
   "id": "b91ad2d953e82cb",
   "outputs": [],
   "execution_count": 18
  },
  {
   "metadata": {
    "ExecuteTime": {
     "end_time": "2025-04-08T23:04:15.395847Z",
     "start_time": "2025-04-08T23:04:11.476199Z"
    }
   },
   "cell_type": "code",
   "source": [
    "if __name__ == \"__main__\":\n",
    "    H = SparsePauliOp.from_list([(\"ZIZZ\", 1),(\"ZZII\", 3),(\"IZZI\", 1),(\"IIZZ\", 1)]) # Toy hamiltonian\n",
    "    circuit = QuantumCircuit(4)\n",
    "    ansatz = QuantumCircuit(4)\n",
    "    pruning_rates = [0.1, 0.3, 0.5, 0.7, 0.9]\n",
    "    pruning_results = NaiveBuilder(\n",
    "        params=[1,1,1,1], \n",
    "        ansatz=ansatz, \n",
    "        layers=3, \n",
    "        circuit=circuit, \n",
    "        hamiltonian=H, \n",
    "        estimator=Estimator(), \n",
    "        pruning_rates=pruning_rates\n",
    "    )\n",
    "    \n",
    "    visualize_pruning_results(pruning_results)\n",
    "    \n",
    "    expressivity_results = experiment_expressivity()\n",
    "    visualize_expressivity(expressivity_results)"
   ],
   "id": "b7412d83095f07e5",
   "outputs": [
    {
     "name": "stdout",
     "output_type": "stream",
     "text": [
      "Visualization saved as 'pruning_results.png'\n",
      "Visualization saved as 'expressivity_results.png'\n"
     ]
    }
   ],
   "execution_count": 19
  }
 ],
 "metadata": {
  "kernelspec": {
   "display_name": "Python 3",
   "language": "python",
   "name": "python3"
  },
  "language_info": {
   "codemirror_mode": {
    "name": "ipython",
    "version": 2
   },
   "file_extension": ".py",
   "mimetype": "text/x-python",
   "name": "python",
   "nbconvert_exporter": "python",
   "pygments_lexer": "ipython2",
   "version": "2.7.6"
  }
 },
 "nbformat": 4,
 "nbformat_minor": 5
}
